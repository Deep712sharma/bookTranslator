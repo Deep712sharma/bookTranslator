{
 "cells": [
  {
   "cell_type": "code",
   "execution_count": 19,
   "id": "6f22bc18",
   "metadata": {},
   "outputs": [],
   "source": [
    "from googletrans import Translator\n",
    "from os import chdir, getcwd, listdir, makedirs\n",
    "from os.path import join,splitext\n",
    "from docx import Document\n",
    "import spacy\n",
    "from spacy.lang.en.stop_words import STOP_WORDS\n",
    "from string import punctuation\n",
    "from heapq import nlargest\n",
    "import fitz\n",
    "import pytesseract\n",
    "from pytesseract import image_to_string\n",
    "from PIL import Image\n",
    "from PyPDF2 import PdfReader\n",
    "import io\n",
    "from pdf2image import convert_from_path\n",
    "import re"
   ]
  },
  {
   "cell_type": "code",
   "execution_count": 20,
   "id": "8caf128c",
   "metadata": {},
   "outputs": [],
   "source": [
    "current_dir = getcwd()"
   ]
  },
  {
   "cell_type": "code",
   "execution_count": 21,
   "id": "37523503",
   "metadata": {},
   "outputs": [],
   "source": [
    "target_folder = join(current_dir, r\"C:\\Users\\acer\\Desktop\\test\")\n",
    "print(\"Target Folder Path:\", target_folder)"
   ]
  },
  {
   "cell_type": "code",
   "execution_count": 91,
   "id": "5ee549e5",
   "metadata": {},
   "outputs": [],
   "source": [
    "# List files and subdirectories within a folder\n",
    "file_list = listdir(target_folder)\n",
    "print(\"Files in Target Folder:\", file_list)"
   ]
  },
  {
   "cell_type": "code",
   "execution_count": 45,
   "id": "93330a91",
   "metadata": {},
   "outputs": [],
   "source": [
    "stopwords = list(STOP_WORDS)\n",
    "nlp = spacy.load('en_core_web_sm')\n",
    "content = \"\""
   ]
  },
  {
   "cell_type": "code",
   "execution_count": 34,
   "id": "3365662e",
   "metadata": {},
   "outputs": [],
   "source": [
    "pytesseract.pytesseract.tesseract_cmd = r'C:\\Program Files\\Tesseract-OCR\\tesseract.exe'"
   ]
  },
  {
   "cell_type": "code",
   "execution_count": 35,
   "id": "457ddc42",
   "metadata": {},
   "outputs": [],
   "source": [
    "def get_Language(argument):\n",
    "    switcher = {\n",
    "        0: \"en\",\n",
    "        6: \"hi\",\n",
    "        5: \"zh-CN\",\n",
    "        4: \"ko\",\n",
    "        3: \"ja\",\n",
    "        1: \"de\"\n",
    "    }\n",
    "    return switcher.get(argument, \"en\")"
   ]
  },
  {
   "cell_type": "code",
   "execution_count": 36,
   "id": "264ec546",
   "metadata": {},
   "outputs": [],
   "source": [
    "def getSelection():\n",
    "    while True:\n",
    "        try:\n",
    "            userInput = int(input())\n",
    "            if userInput < 0 or userInput > 6:\n",
    "                print(\"Not an integer! Try again.\")\n",
    "                continue\n",
    "        except ValueError:\n",
    "            print(\"Not an integer! Try again.\")\n",
    "            continue\n",
    "        else:\n",
    "            return userInput\n",
    "            break"
   ]
  },
  {
   "cell_type": "code",
   "execution_count": 37,
   "id": "a9105d29",
   "metadata": {},
   "outputs": [],
   "source": [
    "translator = Translator()"
   ]
  },
  {
   "cell_type": "code",
   "execution_count": 93,
   "id": "c4ec491b",
   "metadata": {
    "scrolled": true
   },
   "outputs": [],
   "source": [
    "print(\"0. ENGLISH\")\n",
    "print(\"6. HINDI\")\n",
    "print(\"5. Chinese\")\n",
    "print(\"4. KOREAN\")\n",
    "print(\"3. JAPANESE\")\n",
    "print(\"1. GERMAN\")\n",
    "tran = getSelection()\n",
    "lang = get_Language(tran)\n",
    "print(\"Selected Language:\", lang)"
   ]
  },
  {
   "cell_type": "code",
   "execution_count": 94,
   "id": "6150446b",
   "metadata": {},
   "outputs": [],
   "source": [
    "for i in file_list:\n",
    "    path = r\"C:\\Users\\acer\\Desktop\\test\\{}\".format(i)\n",
    "    def get_file_extension(path):\n",
    "        return splitext(path)[1][1:]  # Remove the leading dot\n",
    "    # Example usage:\n",
    "    extension = get_file_extension(path)\n",
    "    #print(\"File extension:\", extension)\n",
    "    if(extension == 'docx'):\n",
    "        # Load the Word document\n",
    "        doc = Document(path)\n",
    "        # Read the content of the document\n",
    "        content:str = ''\n",
    "        page_content = \"\"\n",
    "        content = \"\\n\".join([para.text for para in doc.paragraphs])\n",
    "        page_content += content\n",
    "        preprocessed_content = re.sub(r'\\s+', ' ', page_content).strip\n",
    "        translated_text = translator.translate(page_content, dest=lang)\n",
    "        print(translated_text.text)\n",
    "    else:\n",
    "        def check_pdf_content(pdf_path):\n",
    "            has_text = False\n",
    "            has_images = False\n",
    "            with open(pdf_path, 'rb') as pdf_file:\n",
    "                pdf_reader = PdfReader(pdf_file)\n",
    "                # Check if the PDF contains text\n",
    "                for page_num in range(len(pdf_reader.pages)):\n",
    "                    page = pdf_reader.pages[page_num]\n",
    "                    page_text = page.extract_text()\n",
    "                    if page_text.strip():  # Check if the extracted text is not empty\n",
    "                        has_text = True\n",
    "                        break\n",
    "                  # Check if the PDF contains images\n",
    "            if '/XObject' in page['/Resources']:\n",
    "                xObject = page['/Resources']['/XObject'].get_object()\n",
    "                if xObject:\n",
    "                    for obj in xObject:\n",
    "                         if xObject[obj]['/Subtype'] == '/Image':\n",
    "                            has_images = True\n",
    "                            break\n",
    "            return has_text, has_images\n",
    "        if __name__ == \"__main__\":\n",
    "            text_present, images_present = check_pdf_content(path)\n",
    "\n",
    "            if text_present:\n",
    "                # If the page has text, extract it directly\n",
    "                with open(path, 'rb') as pdf_file:\n",
    "                    # Create a PDF reader object\n",
    "                    pdf = PdfReader(pdf_file)\n",
    "                    # Get the number of pages in the PDF\n",
    "                    num_pages = len(pdf.pages)\n",
    "                    # Extract text from all pages and store it in the 'text' variable\n",
    "                    \n",
    "                    for page_num in range(num_pages):\n",
    "                        page = pdf.pages[page_num]\n",
    "                        content:str = ''\n",
    "                        page_content = \"\"\n",
    "                        content += page.extract_text()\n",
    "                        page_content += content\n",
    "                        preprocessed_content = re.sub(r'\\s+', ' ', page_content).strip\n",
    "                        translated_text = translator.translate(page_content, dest=lang)\n",
    "                        print(translated_text.text)\n",
    "                #print(\"The PDF contains text.\")\n",
    "\n",
    "            elif images_present:\n",
    "                # Open the PDF file and read its content using PyPDF2\n",
    "                with open(path, 'rb') as pdf_file:\n",
    "                    pdf_reader = PdfReader(pdf_file)\n",
    "                    # Iterate through all pages\n",
    "                    for page_num in range(len(pdf_reader.pages)):\n",
    "                        # Convert the page to an image using pdf2image\n",
    "                        images = convert_from_path(path, first_page=page_num + 1, last_page=page_num + 1, poppler_path = r\"C:\\Users\\acer\\Downloads\\Release-23.07.0-0\\poppler-23.07.0\\Library\\bin\")\n",
    "                        # Initialize the page_content variable to store text extracted from this page\n",
    "                        content:str = ''\n",
    "                        page_content = \"\"\n",
    "                        # Save each image to the output folder\n",
    "                        for idx, image in enumerate(images):\n",
    "                            extracted_text = pytesseract.image_to_string(Image.open(join(f\"page{page_num + 1}_image{idx + 1}.jpg\")))\n",
    "                            page_content += extracted_text\n",
    "                            preprocessed_content = re.sub(r'\\s+', ' ', page_content).strip\n",
    "                            translated_text = translator.translate(page_content, dest=lang)\n",
    "                            print(translated_text.text)\n",
    "                            #print(\"Detected Text:\", preprocessed_content)"
   ]
  },
  {
   "cell_type": "markdown",
   "id": "b46df3ab",
   "metadata": {},
   "source": [
    "### "
   ]
  }
 ],
 "metadata": {
  "kernelspec": {
   "display_name": "Python 3 (ipykernel)",
   "language": "python",
   "name": "python3"
  },
  "language_info": {
   "codemirror_mode": {
    "name": "ipython",
    "version": 3
   },
   "file_extension": ".py",
   "mimetype": "text/x-python",
   "name": "python",
   "nbconvert_exporter": "python",
   "pygments_lexer": "ipython3",
   "version": "3.11.3"
  }
 },
 "nbformat": 4,
 "nbformat_minor": 5
}
